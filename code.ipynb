{
 "cells": [
  {
   "cell_type": "code",
   "execution_count": 2,
   "metadata": {},
   "outputs": [],
   "source": [
    "import numpy as np\n",
    "import matplotlib.pyplot as plt"
   ]
  },
  {
   "cell_type": "code",
   "execution_count": 5,
   "metadata": {},
   "outputs": [],
   "source": [
    "#constants\n",
    "pi = np.pi;\n",
    "e = np.e;"
   ]
  },
  {
   "cell_type": "markdown",
   "metadata": {},
   "source": [
    "### FFT"
   ]
  },
  {
   "cell_type": "code",
   "execution_count": 108,
   "metadata": {},
   "outputs": [],
   "source": [
    "def fft(P):\n",
    "\n",
    "    if(len(P) == 1):\n",
    "        return P;\n",
    "    \n",
    "\n",
    "    P_e = P[0:: 2];\n",
    "    P_o = P[1:: 2];\n",
    "\n",
    "    y_e = fft(P_e);\n",
    "    y_o = fft(P_o);\n",
    "\n",
    "    y = np.zeros(len(P), dtype=np.complex_);\n",
    "    w = e**(1j * 2*pi/len(P));\n",
    "    w0 = 1;\n",
    "\n",
    "    for i in range(len(y_e)):\n",
    "        y[i] = w0 * y_o[i] + y_e[i];\n",
    "        y[i+len(y_e)] = -w0 * y_o[i] + y_e[i];\n",
    "        w0 *= w;\n",
    "    \n",
    "\n",
    "    return y;\n",
    "\n",
    "def ifft(P):\n",
    "\n",
    "    if(len(P) == 1):\n",
    "        return P;\n",
    "    \n",
    "\n",
    "    P_e = P[0:: 2];\n",
    "    P_o = P[1:: 2];\n",
    "\n",
    "    y_e = fft(P_e);\n",
    "    y_o = fft(P_o);\n",
    "\n",
    "    y = np.zeros(len(P), dtype=np.complex_);\n",
    "    w = e**(-1j * 2*pi/len(P));\n",
    "    w0 = 1;\n",
    "\n",
    "    for i in range(len(y_e)):\n",
    "        y[i] = w0 * y_o[i] + y_e[i];\n",
    "        y[i+len(y_e)] = -w0 * y_o[i] + y_e[i];\n",
    "        w0 *= w;\n",
    "    \n",
    "\n",
    "    return y/len(P);\n",
    "\n",
    "def fpad(P):\n",
    "\n",
    "    n = int(2**(np.ceil(np.log2(len(P)))));\n",
    "    if(len(P)-n==0):\n",
    "        return P;\n",
    "\n",
    "    padded = [];\n",
    "    for i in range(0,  len(P)):\n",
    "        padded.append(P[i]);\n",
    "    \n",
    "    for i in range(len(P), n):\n",
    "        padded.append(0);\n",
    "\n",
    "    return np.array(padded, dtype = np.complex_);"
   ]
  },
  {
   "cell_type": "code",
   "execution_count": 127,
   "metadata": {},
   "outputs": [
    {
     "data": {
      "text/plain": [
       "array([-1.+0.j,  0.+0.j,  1.+0.j,  0.+0.j])"
      ]
     },
     "execution_count": 127,
     "metadata": {},
     "output_type": "execute_result"
    }
   ],
   "source": [
    "P = [-1 + 0j, 0 + 0j, 1 + 0j]\n",
    "ifft(fft(fpad(P)))"
   ]
  },
  {
   "cell_type": "markdown",
   "metadata": {},
   "source": [
    "### Newton Raphson"
   ]
  },
  {
   "cell_type": "code",
   "execution_count": 125,
   "metadata": {},
   "outputs": [],
   "source": [
    "def diff(P):\n",
    "\n",
    "    dP = [];\n",
    "    for i in range(1, len(P)):\n",
    "        dP.append(i*P[i]);\n",
    "    dP.append(0);\n",
    "    dP = np.array(dP, dtype=np.complex_);\n",
    "\n",
    "    return dP;\n",
    "\n",
    "def remove_trailing_zeros(P):\n",
    "\n",
    "    n = 0;\n",
    "    for i in range(len(P)-1, 0, -1):\n",
    "        if(np.abs(P[i]) > 0.000000001):\n",
    "            n = i;\n",
    "            break;\n",
    "\n",
    "    return P[:n+1];\n",
    "\n",
    "def poly_div(P, Q): #assuming Q is linear and should (somewhat) divide P\n",
    "    Q = np.concatenate((Q, [0]*(len(P)-len(Q))));\n",
    "\n",
    "    vP = fft(fpad(P));\n",
    "    vQ = fft(fpad(Q));\n",
    "\n",
    "\n",
    "    #locate zero of Q\n",
    "    n = -1;\n",
    "    for i in range(len(vQ)):\n",
    "        if(np.abs(vQ[i]) < 0.0000000000000001):\n",
    "            n = i;\n",
    "            break;\n",
    "\n",
    "    #divide values\n",
    "\n",
    "    h = [];\n",
    "\n",
    "    m = len(vP);\n",
    "    woff = e**(1j * 2*pi*n / m) + 0.00001 + 1j * 0.00001;\n",
    "\n",
    "    for i in range(m):\n",
    "\n",
    "        if(i==n):\n",
    "            pows = [woff];\n",
    "            wi = woff;\n",
    "            for k in range(1, len(P)):\n",
    "                wi *= woff;\n",
    "                pows.append(wi);\n",
    "            \n",
    "            h.append(P.dot(pows)/(Q.dot(pows)));\n",
    "        \n",
    "        else:\n",
    "            h.append(vP[i]/vQ[i]);\n",
    "\n",
    "    return remove_trailing_zeros(ifft(h));\n",
    "\n",
    "\n",
    "def all_roots(P, niter = 20):\n",
    "\n",
    "    #create derivative\n",
    "    P = np.array(P, dtype = np.complex_);\n",
    "    dP = diff(P);\n",
    "\n",
    "    #initial guess\n",
    "    n = len(P);\n",
    "    roots = [];\n",
    "\n",
    "    for i in range(n-1):\n",
    "        x0 = np.random.uniform(-1, 1);    \n",
    "        y0 = np.random.uniform(-1, 1);\n",
    "        z0 = x0 + 1j * y0;\n",
    "\n",
    "        for j in range(niter):\n",
    "            pows = [z0];\n",
    "            zi = z0;\n",
    "            for k in range(1, len(P)):\n",
    "                zi *= z0;\n",
    "                pows.append(zi);\n",
    "\n",
    "            z0 -= P.dot(pows)/dP.dot(pows);\n",
    "\n",
    "        P = poly_div(P, [-z0, 1]);\n",
    "        dP = diff(P);\n",
    "        roots.append(z0);\n",
    "\n",
    "    return roots;"
   ]
  },
  {
   "cell_type": "code",
   "execution_count": 105,
   "metadata": {},
   "outputs": [],
   "source": [
    "#specific newton raphson implementation\n",
    "\n",
    "def calc(z0, n):\n",
    "    fz = [z0]\n",
    "    for i in range(n-1):\n",
    "        z0 = z0*z0+z0;\n",
    "        fz.append(z0);\n",
    "    return np.array(fz);\n",
    "\n",
    "def spec_newt_raph(z0, n, niter = 20):\n",
    "\n",
    "    for i in range(niter):\n",
    "        fz = calc(z0, n);\n",
    "        prod = 1;\n",
    "        for z in fz:\n",
    "            prod *= (2*z+1);\n",
    "        z0 -= (fz[-1]**2+fz[-1])/prod;\n",
    "    \n",
    "    return z0"
   ]
  },
  {
   "cell_type": "code",
   "execution_count": 145,
   "metadata": {},
   "outputs": [
    {
     "data": {
      "text/plain": [
       "-1.0"
      ]
     },
     "execution_count": 145,
     "metadata": {},
     "output_type": "execute_result"
    }
   ],
   "source": [
    "spec_newt_raph(-1.39, 4)"
   ]
  },
  {
   "cell_type": "markdown",
   "metadata": {},
   "source": [
    "### Main Event"
   ]
  },
  {
   "cell_type": "code",
   "execution_count": null,
   "metadata": {},
   "outputs": [],
   "source": [
    "def genady_polynomial(c1, p, q):\n",
    "\n",
    "    genady = [1];\n",
    "\n",
    "    #start by calculating the inner summands, and keep them in an array\n",
    "    derv = 1/(2*c1);\n",
    "    z0 = c1;\n",
    "\n",
    "\n",
    "    derivs = [derv];\n",
    "\n",
    "    for i in range(2, p*q+1):\n",
    "        z0 = z0*z0 + c1;\n",
    "        if(np.abs(derv)<0.00000000000000001):\n",
    "            derv = 0;\n",
    "        \n",
    "        else:\n",
    "            derv = derv/(2*z0);\n",
    "        \n",
    "        derivs.append(derv);\n",
    "    \n",
    "    #now calculate polynomial\n",
    "    for n in range(1, q):\n",
    "        genady.append(sum(derivs[p*(n-1)+1 : p*n+1]));\n",
    "    \n",
    "\n",
    "    genady.append(sum(derivs[p*(q-1)+1 : p*q]));\n",
    "\n",
    "    return genady;"
   ]
  },
  {
   "cell_type": "code",
   "execution_count": 102,
   "metadata": {},
   "outputs": [
    {
     "data": {
      "text/plain": [
       "0"
      ]
     },
     "execution_count": 102,
     "metadata": {},
     "output_type": "execute_result"
    }
   ],
   "source": [
    "np.concatenate((np.array([1,2,3]), [0]*10)).dot([0]*13)"
   ]
  },
  {
   "cell_type": "code",
   "execution_count": null,
   "metadata": {},
   "outputs": [],
   "source": []
  }
 ],
 "metadata": {
  "kernelspec": {
   "display_name": "Python 3",
   "language": "python",
   "name": "python3"
  },
  "language_info": {
   "codemirror_mode": {
    "name": "ipython",
    "version": 3
   },
   "file_extension": ".py",
   "mimetype": "text/x-python",
   "name": "python",
   "nbconvert_exporter": "python",
   "pygments_lexer": "ipython3",
   "version": "3.11.5"
  }
 },
 "nbformat": 4,
 "nbformat_minor": 2
}
