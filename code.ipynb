{
 "cells": [
  {
   "cell_type": "code",
   "execution_count": 1,
   "metadata": {},
   "outputs": [],
   "source": [
    "import numpy as np\n",
    "import matplotlib.pyplot as plt\n",
    "import sympy as sym"
   ]
  },
  {
   "cell_type": "code",
   "execution_count": 2,
   "metadata": {},
   "outputs": [],
   "source": [
    "#constants\n",
    "pi = np.pi;\n",
    "e = np.e;"
   ]
  },
  {
   "cell_type": "markdown",
   "metadata": {},
   "source": [
    "### FFT"
   ]
  },
  {
   "cell_type": "code",
   "execution_count": 3,
   "metadata": {},
   "outputs": [],
   "source": [
    "def fft(P):\n",
    "\n",
    "    if(len(P) == 1):\n",
    "        return P;\n",
    "    \n",
    "\n",
    "    P_e = P[0:: 2];\n",
    "    P_o = P[1:: 2];\n",
    "\n",
    "    y_e = fft(P_e);\n",
    "    y_o = fft(P_o);\n",
    "\n",
    "    y = np.zeros(len(P), dtype=np.complex_);\n",
    "    w = e**(1j * 2*pi/len(P));\n",
    "    w0 = 1;\n",
    "\n",
    "    for i in range(len(y_e)):\n",
    "        y[i] = w0 * y_o[i] + y_e[i];\n",
    "        y[i+len(y_e)] = -w0 * y_o[i] + y_e[i];\n",
    "        w0 *= w;\n",
    "    \n",
    "\n",
    "    return y;\n",
    "\n",
    "def ifft(P, depth = 0):\n",
    "\n",
    "    if(len(P) == 1):\n",
    "        return P;\n",
    "    \n",
    "\n",
    "    P_e = P[0:: 2];\n",
    "    P_o = P[1:: 2];\n",
    "\n",
    "    y_e = ifft(P_e, 1);\n",
    "    y_o = ifft(P_o, 1);\n",
    "\n",
    "    y = np.zeros(len(P), dtype=np.complex_);\n",
    "    w = e**(-1j * 2*pi/len(P));\n",
    "    w0 = 1;\n",
    "\n",
    "    for i in range(len(y_e)):\n",
    "        y[i] = w0 * y_o[i] + y_e[i];\n",
    "        y[i+len(y_e)] = -w0 * y_o[i] + y_e[i];\n",
    "        w0 *= w;\n",
    "    \n",
    "    if(depth):\n",
    "        return y;\n",
    "\n",
    "    return y/len(P);\n",
    "\n",
    "def fpad(P):\n",
    "\n",
    "    n = int(2**(np.ceil(np.log2(len(P)))));\n",
    "    if(len(P)-n==0):\n",
    "        return P;\n",
    "\n",
    "    padded = [];\n",
    "    for i in range(0,  len(P)):\n",
    "        padded.append(P[i]);\n",
    "    \n",
    "    for i in range(len(P), n):\n",
    "        padded.append(0);\n",
    "\n",
    "    return np.array(padded, dtype = np.complex_);"
   ]
  },
  {
   "cell_type": "markdown",
   "metadata": {},
   "source": [
    "### Newton Raphson"
   ]
  },
  {
   "cell_type": "code",
   "execution_count": 60,
   "metadata": {},
   "outputs": [],
   "source": [
    "def diff(P):\n",
    "\n",
    "    dP = [];\n",
    "    for i in range(1, len(P)):\n",
    "        dP.append(i*P[i]);\n",
    "    dP.append(0);\n",
    "    dP = np.array(dP, dtype=np.complex_);\n",
    "\n",
    "    return dP;\n",
    "\n",
    "def remove_trailing_zeros(P):\n",
    "\n",
    "    n = 0;\n",
    "    for i in range(len(P)-1, 0, -1):\n",
    "        if(np.abs(P[i]) > 0.0001):\n",
    "            n = i;\n",
    "            break;\n",
    "\n",
    "    return P[:n+1];\n",
    "\n",
    "def poly_div(P,Q):\n",
    "    P = np.array(P, dtype=np.complex_);\n",
    "    Q = np.concatenate((Q, [0]*(len(P)-len(Q))));\n",
    "\n",
    "    vP = fft(fpad(P));\n",
    "    vQ = fft(fpad(Q));\n",
    "\n",
    "    h = [];\n",
    "    for i in range(len(vP)):\n",
    "        if(np.abs(vQ[i])>10**(-3)):\n",
    "            h.append(vP[i]/vQ[i]);\n",
    "        else:\n",
    "            woff = woff = e**(1j * 2*pi*i / len(vP)) + 0.00001 + 1j * 0.00001;\n",
    "            pows = [woff**i for i in range(len(P))];\n",
    "            h.append(P.dot(pows)/Q.dot(pows))\n",
    "    \n",
    "    return np.array(remove_trailing_zeros(ifft(h)), dtype = np.complex_);\n",
    "\n",
    "\n",
    "def all_roots(P, niter = 20):\n",
    "\n",
    "    #create derivative\n",
    "    P = np.array(P, dtype = np.complex_);\n",
    "    dP = diff(P);\n",
    "\n",
    "    #initial guess\n",
    "    n = len(P);\n",
    "    roots = [];\n",
    "\n",
    "    for i in range(n-1):\n",
    "        x0 = np.random.uniform(-1, 1);\n",
    "        y0 = np.random.uniform(-1, 1);\n",
    "        z0 = x0 + 1j * y0;\n",
    "\n",
    "        for j in range(niter):\n",
    "            pows = [1];\n",
    "            zi = 1;\n",
    "            for k in range(1, len(P)):\n",
    "                zi *= z0;\n",
    "                pows.append(zi);\n",
    "\n",
    "            vp = P.dot(pows);\n",
    "            vq = dP.dot(pows);\n",
    "\n",
    "            z0 = z0 - vp/vq;\n",
    "\n",
    "        P = poly_div(P, [-z0, 1]);\n",
    "        dP = diff(P);\n",
    "        roots.append(z0);\n",
    "\n",
    "    return roots;\n",
    "\n",
    "def newt_raph(P, x0, niter = 20):\n",
    "    #create derivative\n",
    "    P = np.array(P, dtype = np.complex_);\n",
    "    dP = diff(P);\n",
    "\n",
    "    #initial guess\n",
    "    roots = [];\n",
    "\n",
    "    for i in range(niter):\n",
    "\n",
    "        for j in range(niter):\n",
    "            pows = [1];\n",
    "            xi = 1;\n",
    "            for k in range(1, len(P)):\n",
    "                xi *= x0;\n",
    "                pows.append(xi);\n",
    "\n",
    "            vp = P.dot(pows);\n",
    "            vq = dP.dot(pows);\n",
    "\n",
    "            x0 = x0 - vp/vq;\n",
    "\n",
    "\n",
    "    return x0;\n",
    "    "
   ]
  },
  {
   "cell_type": "code",
   "execution_count": 7,
   "metadata": {},
   "outputs": [],
   "source": [
    "#specific newton raphson implementation\n",
    "\n",
    "def calc(z0, n):\n",
    "    fz = [z0]\n",
    "    for i in range(n-1):\n",
    "        z0 = z0*z0+z0;\n",
    "        fz.append(z0);\n",
    "    return np.array(fz);\n",
    "\n",
    "def spec_newt_raph(z0, n, niter = 20):\n",
    "\n",
    "    for i in range(niter):\n",
    "        fz = calc(z0, n);\n",
    "        prod = 1;\n",
    "        for z in fz:\n",
    "            prod *= (2*z+1);\n",
    "        z0 -= (fz[-1]**2+fz[-1])/prod;\n",
    "    \n",
    "    return z0"
   ]
  },
  {
   "cell_type": "code",
   "execution_count": 8,
   "metadata": {},
   "outputs": [
    {
     "data": {
      "text/plain": [
       "(-1.070695986873045-0.7587449567759897j)"
      ]
     },
     "execution_count": 8,
     "metadata": {},
     "output_type": "execute_result"
    }
   ],
   "source": [
    "spec_newt_raph(-1.5 - 1j, 4)"
   ]
  },
  {
   "cell_type": "markdown",
   "metadata": {},
   "source": [
    "### Composition and roots of f^pq"
   ]
  },
  {
   "cell_type": "code",
   "execution_count": 11,
   "metadata": {},
   "outputs": [],
   "source": [
    "def piter(p, n):\n",
    "    q = p;\n",
    "    for i in range(n-1):\n",
    "        q = sym.compose(p, q);\n",
    "    return q\n",
    "\n",
    "def c1iter(c, n):\n",
    "    H = c;\n",
    "    for i in range(1, n):\n",
    "        H = H*H+c;\n",
    "    return H\n",
    "\n",
    "def to_array(p):\n",
    "    return np.array(sym.Poly(p).all_coeffs(), dtype=np.complex_);"
   ]
  },
  {
   "cell_type": "code",
   "execution_count": 75,
   "metadata": {},
   "outputs": [
    {
     "data": {
      "text/latex": [
       "$\\displaystyle c + \\left(c + \\left(c^{2} + c\\right)^{2}\\right)^{2}$"
      ],
      "text/plain": [
       "c + (c + (c**2 + c)**2)**2"
      ]
     },
     "execution_count": 75,
     "metadata": {},
     "output_type": "execute_result"
    }
   ],
   "source": [
    "c1iter(c, 2**2)"
   ]
  },
  {
   "cell_type": "code",
   "execution_count": 107,
   "metadata": {},
   "outputs": [
    {
     "ename": "KeyboardInterrupt",
     "evalue": "",
     "output_type": "error",
     "traceback": [
      "\u001b[1;31m---------------------------------------------------------------------------\u001b[0m",
      "\u001b[1;31mKeyboardInterrupt\u001b[0m                         Traceback (most recent call last)",
      "Cell \u001b[1;32mIn[107], line 3\u001b[0m\n\u001b[0;32m      1\u001b[0m c \u001b[38;5;241m=\u001b[39m sym\u001b[38;5;241m.\u001b[39mSymbol(\u001b[38;5;124m'\u001b[39m\u001b[38;5;124mc\u001b[39m\u001b[38;5;124m'\u001b[39m)\n\u001b[1;32m----> 3\u001b[0m q \u001b[38;5;241m=\u001b[39m \u001b[43mto_array\u001b[49m\u001b[43m(\u001b[49m\u001b[43mc1iter\u001b[49m\u001b[43m(\u001b[49m\u001b[43mc\u001b[49m\u001b[43m,\u001b[49m\u001b[43m \u001b[49m\u001b[38;5;241;43m2\u001b[39;49m\u001b[43m \u001b[49m\u001b[38;5;241;43m*\u001b[39;49m\u001b[43m \u001b[49m\u001b[38;5;241;43m2\u001b[39;49m\u001b[38;5;241;43m*\u001b[39;49m\u001b[38;5;241;43m*\u001b[39;49m\u001b[38;5;241;43m3\u001b[39;49m\u001b[43m)\u001b[49m\u001b[43m)\u001b[49m[::\u001b[38;5;241m-\u001b[39m\u001b[38;5;241m1\u001b[39m]\n\u001b[0;32m      4\u001b[0m roots \u001b[38;5;241m=\u001b[39m all_roots(q, niter\u001b[38;5;241m=\u001b[39m\u001b[38;5;241m1000\u001b[39m)\n\u001b[0;32m      5\u001b[0m plt\u001b[38;5;241m.\u001b[39mscatter(np\u001b[38;5;241m.\u001b[39mreal(roots), np\u001b[38;5;241m.\u001b[39mimag(roots))\n",
      "Cell \u001b[1;32mIn[11], line 14\u001b[0m, in \u001b[0;36mto_array\u001b[1;34m(p)\u001b[0m\n\u001b[0;32m     13\u001b[0m \u001b[38;5;28;01mdef\u001b[39;00m \u001b[38;5;21mto_array\u001b[39m(p):\n\u001b[1;32m---> 14\u001b[0m     \u001b[38;5;28;01mreturn\u001b[39;00m np\u001b[38;5;241m.\u001b[39marray(\u001b[43msym\u001b[49m\u001b[38;5;241;43m.\u001b[39;49m\u001b[43mPoly\u001b[49m\u001b[43m(\u001b[49m\u001b[43mp\u001b[49m\u001b[43m)\u001b[49m\u001b[38;5;241m.\u001b[39mall_coeffs(), dtype\u001b[38;5;241m=\u001b[39mnp\u001b[38;5;241m.\u001b[39mcomplex_)\n",
      "File \u001b[1;32mc:\\Users\\harel\\AppData\\Local\\Programs\\Python\\Python311\\Lib\\site-packages\\sympy\\polys\\polytools.py:182\u001b[0m, in \u001b[0;36mPoly.__new__\u001b[1;34m(cls, rep, *gens, **args)\u001b[0m\n\u001b[0;32m    180\u001b[0m     \u001b[38;5;28;01mreturn\u001b[39;00m \u001b[38;5;28mcls\u001b[39m\u001b[38;5;241m.\u001b[39m_from_poly(rep, opt)\n\u001b[0;32m    181\u001b[0m \u001b[38;5;28;01melse\u001b[39;00m:\n\u001b[1;32m--> 182\u001b[0m     \u001b[38;5;28;01mreturn\u001b[39;00m \u001b[38;5;28;43mcls\u001b[39;49m\u001b[38;5;241;43m.\u001b[39;49m\u001b[43m_from_expr\u001b[49m\u001b[43m(\u001b[49m\u001b[43mrep\u001b[49m\u001b[43m,\u001b[49m\u001b[43m \u001b[49m\u001b[43mopt\u001b[49m\u001b[43m)\u001b[49m\n",
      "File \u001b[1;32mc:\\Users\\harel\\AppData\\Local\\Programs\\Python\\Python311\\Lib\\site-packages\\sympy\\polys\\polytools.py:311\u001b[0m, in \u001b[0;36mPoly._from_expr\u001b[1;34m(cls, rep, opt)\u001b[0m\n\u001b[0;32m    308\u001b[0m \u001b[38;5;129m@classmethod\u001b[39m\n\u001b[0;32m    309\u001b[0m \u001b[38;5;28;01mdef\u001b[39;00m \u001b[38;5;21m_from_expr\u001b[39m(\u001b[38;5;28mcls\u001b[39m, rep, opt):\n\u001b[0;32m    310\u001b[0m \u001b[38;5;250m    \u001b[39m\u001b[38;5;124;03m\"\"\"Construct a polynomial from an expression. \"\"\"\u001b[39;00m\n\u001b[1;32m--> 311\u001b[0m     rep, opt \u001b[38;5;241m=\u001b[39m \u001b[43m_dict_from_expr\u001b[49m\u001b[43m(\u001b[49m\u001b[43mrep\u001b[49m\u001b[43m,\u001b[49m\u001b[43m \u001b[49m\u001b[43mopt\u001b[49m\u001b[43m)\u001b[49m\n\u001b[0;32m    312\u001b[0m     \u001b[38;5;28;01mreturn\u001b[39;00m \u001b[38;5;28mcls\u001b[39m\u001b[38;5;241m.\u001b[39m_from_dict(rep, opt)\n",
      "File \u001b[1;32mc:\\Users\\harel\\AppData\\Local\\Programs\\Python\\Python311\\Lib\\site-packages\\sympy\\polys\\polyutils.py:357\u001b[0m, in \u001b[0;36m_dict_from_expr\u001b[1;34m(expr, opt)\u001b[0m\n\u001b[0;32m    355\u001b[0m \u001b[38;5;28;01mif\u001b[39;00m \u001b[38;5;129;01mnot\u001b[39;00m \u001b[38;5;28misinstance\u001b[39m(expr, (Expr, Eq)):\n\u001b[0;32m    356\u001b[0m     \u001b[38;5;28;01mraise\u001b[39;00m PolynomialError(\u001b[38;5;124m'\u001b[39m\u001b[38;5;124mexpression must be of type Expr\u001b[39m\u001b[38;5;124m'\u001b[39m)\n\u001b[1;32m--> 357\u001b[0m expr \u001b[38;5;241m=\u001b[39m \u001b[43mexpr\u001b[49m\u001b[38;5;241;43m.\u001b[39;49m\u001b[43mexpand\u001b[49m\u001b[43m(\u001b[49m\u001b[43m)\u001b[49m\n\u001b[0;32m    358\u001b[0m \u001b[38;5;66;03m# TODO: Integrate this into expand() itself\u001b[39;00m\n\u001b[0;32m    359\u001b[0m \u001b[38;5;28;01mwhile\u001b[39;00m \u001b[38;5;28many\u001b[39m(_is_expandable_pow(i) \u001b[38;5;129;01mor\u001b[39;00m i\u001b[38;5;241m.\u001b[39mis_Mul \u001b[38;5;129;01mand\u001b[39;00m\n\u001b[0;32m    360\u001b[0m     \u001b[38;5;28many\u001b[39m(_is_expandable_pow(j) \u001b[38;5;28;01mfor\u001b[39;00m j \u001b[38;5;129;01min\u001b[39;00m i\u001b[38;5;241m.\u001b[39margs) \u001b[38;5;28;01mfor\u001b[39;00m i \u001b[38;5;129;01min\u001b[39;00m\n\u001b[0;32m    361\u001b[0m         Add\u001b[38;5;241m.\u001b[39mmake_args(expr)):\n",
      "File \u001b[1;32mc:\\Users\\harel\\AppData\\Local\\Programs\\Python\\Python311\\Lib\\site-packages\\sympy\\core\\cache.py:70\u001b[0m, in \u001b[0;36m__cacheit.<locals>.func_wrapper.<locals>.wrapper\u001b[1;34m(*args, **kwargs)\u001b[0m\n\u001b[0;32m     67\u001b[0m \u001b[38;5;129m@wraps\u001b[39m(func)\n\u001b[0;32m     68\u001b[0m \u001b[38;5;28;01mdef\u001b[39;00m \u001b[38;5;21mwrapper\u001b[39m(\u001b[38;5;241m*\u001b[39margs, \u001b[38;5;241m*\u001b[39m\u001b[38;5;241m*\u001b[39mkwargs):\n\u001b[0;32m     69\u001b[0m     \u001b[38;5;28;01mtry\u001b[39;00m:\n\u001b[1;32m---> 70\u001b[0m         retval \u001b[38;5;241m=\u001b[39m \u001b[43mcfunc\u001b[49m\u001b[43m(\u001b[49m\u001b[38;5;241;43m*\u001b[39;49m\u001b[43margs\u001b[49m\u001b[43m,\u001b[49m\u001b[43m \u001b[49m\u001b[38;5;241;43m*\u001b[39;49m\u001b[38;5;241;43m*\u001b[39;49m\u001b[43mkwargs\u001b[49m\u001b[43m)\u001b[49m\n\u001b[0;32m     71\u001b[0m     \u001b[38;5;28;01mexcept\u001b[39;00m \u001b[38;5;167;01mTypeError\u001b[39;00m \u001b[38;5;28;01mas\u001b[39;00m e:\n\u001b[0;32m     72\u001b[0m         \u001b[38;5;28;01mif\u001b[39;00m \u001b[38;5;129;01mnot\u001b[39;00m e\u001b[38;5;241m.\u001b[39margs \u001b[38;5;129;01mor\u001b[39;00m \u001b[38;5;129;01mnot\u001b[39;00m e\u001b[38;5;241m.\u001b[39margs[\u001b[38;5;241m0\u001b[39m]\u001b[38;5;241m.\u001b[39mstartswith(\u001b[38;5;124m'\u001b[39m\u001b[38;5;124munhashable type:\u001b[39m\u001b[38;5;124m'\u001b[39m):\n",
      "File \u001b[1;32mc:\\Users\\harel\\AppData\\Local\\Programs\\Python\\Python311\\Lib\\site-packages\\sympy\\core\\expr.py:3651\u001b[0m, in \u001b[0;36mExpr.expand\u001b[1;34m(self, deep, modulus, power_base, power_exp, mul, log, multinomial, basic, **hints)\u001b[0m\n\u001b[0;32m   3649\u001b[0m     \u001b[38;5;28;01mif\u001b[39;00m use_hint:\n\u001b[0;32m   3650\u001b[0m         hint \u001b[38;5;241m=\u001b[39m \u001b[38;5;124m'\u001b[39m\u001b[38;5;124m_eval_expand_\u001b[39m\u001b[38;5;124m'\u001b[39m \u001b[38;5;241m+\u001b[39m hint\n\u001b[1;32m-> 3651\u001b[0m         expr, hit \u001b[38;5;241m=\u001b[39m \u001b[43mExpr\u001b[49m\u001b[38;5;241;43m.\u001b[39;49m\u001b[43m_expand_hint\u001b[49m\u001b[43m(\u001b[49m\u001b[43mexpr\u001b[49m\u001b[43m,\u001b[49m\u001b[43m \u001b[49m\u001b[43mhint\u001b[49m\u001b[43m,\u001b[49m\u001b[43m \u001b[49m\u001b[43mdeep\u001b[49m\u001b[38;5;241;43m=\u001b[39;49m\u001b[43mdeep\u001b[49m\u001b[43m,\u001b[49m\u001b[43m \u001b[49m\u001b[38;5;241;43m*\u001b[39;49m\u001b[38;5;241;43m*\u001b[39;49m\u001b[43mhints\u001b[49m\u001b[43m)\u001b[49m\n\u001b[0;32m   3653\u001b[0m \u001b[38;5;28;01mwhile\u001b[39;00m \u001b[38;5;28;01mTrue\u001b[39;00m:\n\u001b[0;32m   3654\u001b[0m     was \u001b[38;5;241m=\u001b[39m expr\n",
      "File \u001b[1;32mc:\\Users\\harel\\AppData\\Local\\Programs\\Python\\Python311\\Lib\\site-packages\\sympy\\core\\expr.py:3584\u001b[0m, in \u001b[0;36mExpr._expand_hint\u001b[1;34m(expr, hint, deep, **hints)\u001b[0m\n\u001b[0;32m   3582\u001b[0m sargs \u001b[38;5;241m=\u001b[39m []\n\u001b[0;32m   3583\u001b[0m \u001b[38;5;28;01mfor\u001b[39;00m arg \u001b[38;5;129;01min\u001b[39;00m expr\u001b[38;5;241m.\u001b[39margs:\n\u001b[1;32m-> 3584\u001b[0m     arg, arghit \u001b[38;5;241m=\u001b[39m \u001b[43mExpr\u001b[49m\u001b[38;5;241;43m.\u001b[39;49m\u001b[43m_expand_hint\u001b[49m\u001b[43m(\u001b[49m\u001b[43marg\u001b[49m\u001b[43m,\u001b[49m\u001b[43m \u001b[49m\u001b[43mhint\u001b[49m\u001b[43m,\u001b[49m\u001b[43m \u001b[49m\u001b[38;5;241;43m*\u001b[39;49m\u001b[38;5;241;43m*\u001b[39;49m\u001b[43mhints\u001b[49m\u001b[43m)\u001b[49m\n\u001b[0;32m   3585\u001b[0m     hit \u001b[38;5;241m|\u001b[39m\u001b[38;5;241m=\u001b[39m arghit\n\u001b[0;32m   3586\u001b[0m     sargs\u001b[38;5;241m.\u001b[39mappend(arg)\n",
      "File \u001b[1;32mc:\\Users\\harel\\AppData\\Local\\Programs\\Python\\Python311\\Lib\\site-packages\\sympy\\core\\expr.py:3584\u001b[0m, in \u001b[0;36mExpr._expand_hint\u001b[1;34m(expr, hint, deep, **hints)\u001b[0m\n\u001b[0;32m   3582\u001b[0m sargs \u001b[38;5;241m=\u001b[39m []\n\u001b[0;32m   3583\u001b[0m \u001b[38;5;28;01mfor\u001b[39;00m arg \u001b[38;5;129;01min\u001b[39;00m expr\u001b[38;5;241m.\u001b[39margs:\n\u001b[1;32m-> 3584\u001b[0m     arg, arghit \u001b[38;5;241m=\u001b[39m \u001b[43mExpr\u001b[49m\u001b[38;5;241;43m.\u001b[39;49m\u001b[43m_expand_hint\u001b[49m\u001b[43m(\u001b[49m\u001b[43marg\u001b[49m\u001b[43m,\u001b[49m\u001b[43m \u001b[49m\u001b[43mhint\u001b[49m\u001b[43m,\u001b[49m\u001b[43m \u001b[49m\u001b[38;5;241;43m*\u001b[39;49m\u001b[38;5;241;43m*\u001b[39;49m\u001b[43mhints\u001b[49m\u001b[43m)\u001b[49m\n\u001b[0;32m   3585\u001b[0m     hit \u001b[38;5;241m|\u001b[39m\u001b[38;5;241m=\u001b[39m arghit\n\u001b[0;32m   3586\u001b[0m     sargs\u001b[38;5;241m.\u001b[39mappend(arg)\n",
      "    \u001b[1;31m[... skipping similar frames: Expr._expand_hint at line 3584 (6 times)]\u001b[0m\n",
      "File \u001b[1;32mc:\\Users\\harel\\AppData\\Local\\Programs\\Python\\Python311\\Lib\\site-packages\\sympy\\core\\expr.py:3584\u001b[0m, in \u001b[0;36mExpr._expand_hint\u001b[1;34m(expr, hint, deep, **hints)\u001b[0m\n\u001b[0;32m   3582\u001b[0m sargs \u001b[38;5;241m=\u001b[39m []\n\u001b[0;32m   3583\u001b[0m \u001b[38;5;28;01mfor\u001b[39;00m arg \u001b[38;5;129;01min\u001b[39;00m expr\u001b[38;5;241m.\u001b[39margs:\n\u001b[1;32m-> 3584\u001b[0m     arg, arghit \u001b[38;5;241m=\u001b[39m \u001b[43mExpr\u001b[49m\u001b[38;5;241;43m.\u001b[39;49m\u001b[43m_expand_hint\u001b[49m\u001b[43m(\u001b[49m\u001b[43marg\u001b[49m\u001b[43m,\u001b[49m\u001b[43m \u001b[49m\u001b[43mhint\u001b[49m\u001b[43m,\u001b[49m\u001b[43m \u001b[49m\u001b[38;5;241;43m*\u001b[39;49m\u001b[38;5;241;43m*\u001b[39;49m\u001b[43mhints\u001b[49m\u001b[43m)\u001b[49m\n\u001b[0;32m   3585\u001b[0m     hit \u001b[38;5;241m|\u001b[39m\u001b[38;5;241m=\u001b[39m arghit\n\u001b[0;32m   3586\u001b[0m     sargs\u001b[38;5;241m.\u001b[39mappend(arg)\n",
      "File \u001b[1;32mc:\\Users\\harel\\AppData\\Local\\Programs\\Python\\Python311\\Lib\\site-packages\\sympy\\core\\expr.py:3592\u001b[0m, in \u001b[0;36mExpr._expand_hint\u001b[1;34m(expr, hint, deep, **hints)\u001b[0m\n\u001b[0;32m   3589\u001b[0m         expr \u001b[38;5;241m=\u001b[39m expr\u001b[38;5;241m.\u001b[39mfunc(\u001b[38;5;241m*\u001b[39msargs)\n\u001b[0;32m   3591\u001b[0m \u001b[38;5;28;01mif\u001b[39;00m \u001b[38;5;28mhasattr\u001b[39m(expr, hint):\n\u001b[1;32m-> 3592\u001b[0m     newexpr \u001b[38;5;241m=\u001b[39m \u001b[38;5;28;43mgetattr\u001b[39;49m\u001b[43m(\u001b[49m\u001b[43mexpr\u001b[49m\u001b[43m,\u001b[49m\u001b[43m \u001b[49m\u001b[43mhint\u001b[49m\u001b[43m)\u001b[49m\u001b[43m(\u001b[49m\u001b[38;5;241;43m*\u001b[39;49m\u001b[38;5;241;43m*\u001b[39;49m\u001b[43mhints\u001b[49m\u001b[43m)\u001b[49m\n\u001b[0;32m   3593\u001b[0m     \u001b[38;5;28;01mif\u001b[39;00m newexpr \u001b[38;5;241m!=\u001b[39m expr:\n\u001b[0;32m   3594\u001b[0m         \u001b[38;5;28;01mreturn\u001b[39;00m (newexpr, \u001b[38;5;28;01mTrue\u001b[39;00m)\n",
      "File \u001b[1;32mc:\\Users\\harel\\AppData\\Local\\Programs\\Python\\Python311\\Lib\\site-packages\\sympy\\core\\power.py:1257\u001b[0m, in \u001b[0;36mPow._eval_expand_multinomial\u001b[1;34m(self, **hints)\u001b[0m\n\u001b[0;32m   1254\u001b[0m     expansion_dict \u001b[38;5;241m=\u001b[39m multinomial_coefficients(\u001b[38;5;28mlen\u001b[39m(p), n)\n\u001b[0;32m   1255\u001b[0m     \u001b[38;5;66;03m# in our example: {(3, 0): 1, (1, 2): 3, (0, 3): 1, (2, 1): 3}\u001b[39;00m\n\u001b[0;32m   1256\u001b[0m     \u001b[38;5;66;03m# and now construct the expression.\u001b[39;00m\n\u001b[1;32m-> 1257\u001b[0m     \u001b[38;5;28;01mreturn\u001b[39;00m \u001b[43mbasic_from_dict\u001b[49m\u001b[43m(\u001b[49m\u001b[43mexpansion_dict\u001b[49m\u001b[43m,\u001b[49m\u001b[43m \u001b[49m\u001b[38;5;241;43m*\u001b[39;49m\u001b[43mp\u001b[49m\u001b[43m)\u001b[49m\n\u001b[0;32m   1258\u001b[0m \u001b[38;5;28;01melse\u001b[39;00m:\n\u001b[0;32m   1259\u001b[0m     \u001b[38;5;28;01mif\u001b[39;00m n \u001b[38;5;241m==\u001b[39m \u001b[38;5;241m2\u001b[39m:\n",
      "File \u001b[1;32mc:\\Users\\harel\\AppData\\Local\\Programs\\Python\\Python311\\Lib\\site-packages\\sympy\\polys\\polyutils.py:385\u001b[0m, in \u001b[0;36mexpr_from_dict\u001b[1;34m(rep, *gens)\u001b[0m\n\u001b[0;32m    382\u001b[0m         \u001b[38;5;28;01mif\u001b[39;00m m:\n\u001b[0;32m    383\u001b[0m             term\u001b[38;5;241m.\u001b[39mappend(Pow(g, m))\n\u001b[1;32m--> 385\u001b[0m     result\u001b[38;5;241m.\u001b[39mappend(\u001b[43mMul\u001b[49m\u001b[43m(\u001b[49m\u001b[38;5;241;43m*\u001b[39;49m\u001b[43mterm\u001b[49m\u001b[43m)\u001b[49m)\n\u001b[0;32m    387\u001b[0m \u001b[38;5;28;01mreturn\u001b[39;00m Add(\u001b[38;5;241m*\u001b[39mresult)\n",
      "File \u001b[1;32mc:\\Users\\harel\\AppData\\Local\\Programs\\Python\\Python311\\Lib\\site-packages\\sympy\\core\\cache.py:70\u001b[0m, in \u001b[0;36m__cacheit.<locals>.func_wrapper.<locals>.wrapper\u001b[1;34m(*args, **kwargs)\u001b[0m\n\u001b[0;32m     67\u001b[0m \u001b[38;5;129m@wraps\u001b[39m(func)\n\u001b[0;32m     68\u001b[0m \u001b[38;5;28;01mdef\u001b[39;00m \u001b[38;5;21mwrapper\u001b[39m(\u001b[38;5;241m*\u001b[39margs, \u001b[38;5;241m*\u001b[39m\u001b[38;5;241m*\u001b[39mkwargs):\n\u001b[0;32m     69\u001b[0m     \u001b[38;5;28;01mtry\u001b[39;00m:\n\u001b[1;32m---> 70\u001b[0m         retval \u001b[38;5;241m=\u001b[39m \u001b[43mcfunc\u001b[49m\u001b[43m(\u001b[49m\u001b[38;5;241;43m*\u001b[39;49m\u001b[43margs\u001b[49m\u001b[43m,\u001b[49m\u001b[43m \u001b[49m\u001b[38;5;241;43m*\u001b[39;49m\u001b[38;5;241;43m*\u001b[39;49m\u001b[43mkwargs\u001b[49m\u001b[43m)\u001b[49m\n\u001b[0;32m     71\u001b[0m     \u001b[38;5;28;01mexcept\u001b[39;00m \u001b[38;5;167;01mTypeError\u001b[39;00m \u001b[38;5;28;01mas\u001b[39;00m e:\n\u001b[0;32m     72\u001b[0m         \u001b[38;5;28;01mif\u001b[39;00m \u001b[38;5;129;01mnot\u001b[39;00m e\u001b[38;5;241m.\u001b[39margs \u001b[38;5;129;01mor\u001b[39;00m \u001b[38;5;129;01mnot\u001b[39;00m e\u001b[38;5;241m.\u001b[39margs[\u001b[38;5;241m0\u001b[39m]\u001b[38;5;241m.\u001b[39mstartswith(\u001b[38;5;124m'\u001b[39m\u001b[38;5;124munhashable type:\u001b[39m\u001b[38;5;124m'\u001b[39m):\n",
      "File \u001b[1;32mc:\\Users\\harel\\AppData\\Local\\Programs\\Python\\Python311\\Lib\\site-packages\\sympy\\core\\operations.py:98\u001b[0m, in \u001b[0;36mAssocOp.__new__\u001b[1;34m(cls, evaluate, _sympify, *args)\u001b[0m\n\u001b[0;32m     95\u001b[0m \u001b[38;5;28;01mif\u001b[39;00m \u001b[38;5;28mlen\u001b[39m(args) \u001b[38;5;241m==\u001b[39m \u001b[38;5;241m1\u001b[39m:\n\u001b[0;32m     96\u001b[0m     \u001b[38;5;28;01mreturn\u001b[39;00m args[\u001b[38;5;241m0\u001b[39m]\n\u001b[1;32m---> 98\u001b[0m c_part, nc_part, order_symbols \u001b[38;5;241m=\u001b[39m \u001b[38;5;28;43mcls\u001b[39;49m\u001b[38;5;241;43m.\u001b[39;49m\u001b[43mflatten\u001b[49m\u001b[43m(\u001b[49m\u001b[43margs\u001b[49m\u001b[43m)\u001b[49m\n\u001b[0;32m     99\u001b[0m is_commutative \u001b[38;5;241m=\u001b[39m \u001b[38;5;129;01mnot\u001b[39;00m nc_part\n\u001b[0;32m    100\u001b[0m obj \u001b[38;5;241m=\u001b[39m \u001b[38;5;28mcls\u001b[39m\u001b[38;5;241m.\u001b[39m_from_args(c_part \u001b[38;5;241m+\u001b[39m nc_part, is_commutative)\n",
      "File \u001b[1;32mc:\\Users\\harel\\AppData\\Local\\Programs\\Python\\Python311\\Lib\\site-packages\\sympy\\core\\mul.py:526\u001b[0m, in \u001b[0;36mMul.flatten\u001b[1;34m(cls, seq)\u001b[0m\n\u001b[0;32m    524\u001b[0m     p \u001b[38;5;241m=\u001b[39m b\n\u001b[0;32m    525\u001b[0m \u001b[38;5;28;01mif\u001b[39;00m e \u001b[38;5;129;01mis\u001b[39;00m \u001b[38;5;129;01mnot\u001b[39;00m S\u001b[38;5;241m.\u001b[39mOne:\n\u001b[1;32m--> 526\u001b[0m     p \u001b[38;5;241m=\u001b[39m \u001b[43mPow\u001b[49m\u001b[43m(\u001b[49m\u001b[43mb\u001b[49m\u001b[43m,\u001b[49m\u001b[43m \u001b[49m\u001b[43me\u001b[49m\u001b[43m)\u001b[49m\n\u001b[0;32m    527\u001b[0m     \u001b[38;5;66;03m# check to make sure that the base doesn't change\u001b[39;00m\n\u001b[0;32m    528\u001b[0m     \u001b[38;5;66;03m# after exponentiation; to allow for unevaluated\u001b[39;00m\n\u001b[0;32m    529\u001b[0m     \u001b[38;5;66;03m# Pow, we only do so if b is not already a Pow\u001b[39;00m\n\u001b[0;32m    530\u001b[0m     \u001b[38;5;28;01mif\u001b[39;00m p\u001b[38;5;241m.\u001b[39mis_Pow \u001b[38;5;129;01mand\u001b[39;00m \u001b[38;5;129;01mnot\u001b[39;00m b\u001b[38;5;241m.\u001b[39mis_Pow:\n",
      "File \u001b[1;32mc:\\Users\\harel\\AppData\\Local\\Programs\\Python\\Python311\\Lib\\site-packages\\sympy\\core\\cache.py:70\u001b[0m, in \u001b[0;36m__cacheit.<locals>.func_wrapper.<locals>.wrapper\u001b[1;34m(*args, **kwargs)\u001b[0m\n\u001b[0;32m     67\u001b[0m \u001b[38;5;129m@wraps\u001b[39m(func)\n\u001b[0;32m     68\u001b[0m \u001b[38;5;28;01mdef\u001b[39;00m \u001b[38;5;21mwrapper\u001b[39m(\u001b[38;5;241m*\u001b[39margs, \u001b[38;5;241m*\u001b[39m\u001b[38;5;241m*\u001b[39mkwargs):\n\u001b[0;32m     69\u001b[0m     \u001b[38;5;28;01mtry\u001b[39;00m:\n\u001b[1;32m---> 70\u001b[0m         retval \u001b[38;5;241m=\u001b[39m \u001b[43mcfunc\u001b[49m\u001b[43m(\u001b[49m\u001b[38;5;241;43m*\u001b[39;49m\u001b[43margs\u001b[49m\u001b[43m,\u001b[49m\u001b[43m \u001b[49m\u001b[38;5;241;43m*\u001b[39;49m\u001b[38;5;241;43m*\u001b[39;49m\u001b[43mkwargs\u001b[49m\u001b[43m)\u001b[49m\n\u001b[0;32m     71\u001b[0m     \u001b[38;5;28;01mexcept\u001b[39;00m \u001b[38;5;167;01mTypeError\u001b[39;00m \u001b[38;5;28;01mas\u001b[39;00m e:\n\u001b[0;32m     72\u001b[0m         \u001b[38;5;28;01mif\u001b[39;00m \u001b[38;5;129;01mnot\u001b[39;00m e\u001b[38;5;241m.\u001b[39margs \u001b[38;5;129;01mor\u001b[39;00m \u001b[38;5;129;01mnot\u001b[39;00m e\u001b[38;5;241m.\u001b[39margs[\u001b[38;5;241m0\u001b[39m]\u001b[38;5;241m.\u001b[39mstartswith(\u001b[38;5;124m'\u001b[39m\u001b[38;5;124munhashable type:\u001b[39m\u001b[38;5;124m'\u001b[39m):\n",
      "File \u001b[1;32mc:\\Users\\harel\\AppData\\Local\\Programs\\Python\\Python311\\Lib\\site-packages\\sympy\\core\\power.py:347\u001b[0m, in \u001b[0;36mPow.__new__\u001b[1;34m(cls, b, e, evaluate)\u001b[0m\n\u001b[0;32m    345\u001b[0m     \u001b[38;5;28;01melif\u001b[39;00m e\u001b[38;5;241m.\u001b[39mis_odd:\n\u001b[0;32m    346\u001b[0m         \u001b[38;5;28;01mreturn\u001b[39;00m \u001b[38;5;241m-\u001b[39mPow(\u001b[38;5;241m-\u001b[39mb, e)\n\u001b[1;32m--> 347\u001b[0m \u001b[38;5;28;01mif\u001b[39;00m \u001b[43mS\u001b[49m\u001b[38;5;241;43m.\u001b[39;49m\u001b[43mNaN\u001b[49m\u001b[43m \u001b[49m\u001b[38;5;129;43;01min\u001b[39;49;00m\u001b[43m \u001b[49m\u001b[43m(\u001b[49m\u001b[43mb\u001b[49m\u001b[43m,\u001b[49m\u001b[43m \u001b[49m\u001b[43me\u001b[49m\u001b[43m)\u001b[49m:  \u001b[38;5;66;03m# XXX S.NaN**x -> S.NaN under assumption that x != 0\u001b[39;00m\n\u001b[0;32m    348\u001b[0m     \u001b[38;5;28;01mreturn\u001b[39;00m S\u001b[38;5;241m.\u001b[39mNaN\n\u001b[0;32m    349\u001b[0m \u001b[38;5;28;01melif\u001b[39;00m b \u001b[38;5;129;01mis\u001b[39;00m S\u001b[38;5;241m.\u001b[39mOne:\n",
      "File \u001b[1;32mc:\\Users\\harel\\AppData\\Local\\Programs\\Python\\Python311\\Lib\\site-packages\\sympy\\core\\basic.py:350\u001b[0m, in \u001b[0;36mBasic.__eq__\u001b[1;34m(self, other)\u001b[0m\n\u001b[0;32m    347\u001b[0m         \u001b[38;5;28;01mreturn\u001b[39;00m \u001b[38;5;28mself\u001b[39m \u001b[38;5;241m==\u001b[39m other\u001b[38;5;241m.\u001b[39m_sympy_()\n\u001b[0;32m    348\u001b[0m     \u001b[38;5;28;01mreturn\u001b[39;00m \u001b[38;5;28mNotImplemented\u001b[39m\n\u001b[1;32m--> 350\u001b[0m \u001b[38;5;28;01mdef\u001b[39;00m \u001b[38;5;21m__eq__\u001b[39m(\u001b[38;5;28mself\u001b[39m, other):\n\u001b[0;32m    351\u001b[0m \u001b[38;5;250m    \u001b[39m\u001b[38;5;124;03m\"\"\"Return a boolean indicating whether a == b on the basis of\u001b[39;00m\n\u001b[0;32m    352\u001b[0m \u001b[38;5;124;03m    their symbolic trees.\u001b[39;00m\n\u001b[0;32m    353\u001b[0m \n\u001b[1;32m   (...)\u001b[0m\n\u001b[0;32m    369\u001b[0m \u001b[38;5;124;03m    from http://docs.python.org/dev/reference/datamodel.html#object.__hash__\u001b[39;00m\n\u001b[0;32m    370\u001b[0m \u001b[38;5;124;03m    \"\"\"\u001b[39;00m\n\u001b[0;32m    371\u001b[0m     \u001b[38;5;28;01mif\u001b[39;00m \u001b[38;5;28mself\u001b[39m \u001b[38;5;129;01mis\u001b[39;00m other:\n",
      "\u001b[1;31mKeyboardInterrupt\u001b[0m: "
     ]
    }
   ],
   "source": [
    "c = sym.Symbol('c')\n",
    "\n",
    "q = to_array(c1iter(c, 2 * 2**3))[::-1]\n",
    "roots = all_roots(q, niter=1000)\n",
    "plt.scatter(np.real(roots), np.imag(roots))"
   ]
  },
  {
   "cell_type": "code",
   "execution_count": 24,
   "metadata": {},
   "outputs": [
    {
     "data": {
      "text/plain": [
       "[0j,\n",
       " (0.2822713907669139-0.5300606175785253j),\n",
       " (-0.9999999999999987-2.0083461135798945e-15j),\n",
       " (-1.3107127695631782-1.4439071399170718e-05j),\n",
       " (-0.15652075230288262+1.0322481634724083j),\n",
       " (-0.15651967152218202-1.0322470897732623j),\n",
       " (0.2822719521344572+0.5300605491222412j),\n",
       " (-1.9407842267556903+2.6925376744002295e-05j)]"
      ]
     },
     "execution_count": 24,
     "metadata": {},
     "output_type": "execute_result"
    }
   ],
   "source": [
    "roots"
   ]
  },
  {
   "cell_type": "code",
   "execution_count": 147,
   "metadata": {},
   "outputs": [
    {
     "data": {
      "text/plain": [
       "array([-5.91506115e-06-1.58488834e-06j,  5.00005915e-01+8.66026989e-01j,\n",
       "        9.99994085e-01-1.58488834e-06j])"
      ]
     },
     "execution_count": 147,
     "metadata": {},
     "output_type": "execute_result"
    }
   ],
   "source": [
    "P = [0, 0.5+np.sqrt(3)/2*1j, 1.5+np.sqrt(3)/2*1j, 1]\n",
    "poly_div(P, [1, 1])"
   ]
  },
  {
   "cell_type": "markdown",
   "metadata": {},
   "source": [
    "### Main Event"
   ]
  },
  {
   "cell_type": "code",
   "execution_count": 33,
   "metadata": {},
   "outputs": [],
   "source": [
    "def genady_polynomial(c1, p, q):\n",
    "\n",
    "    genady = [1];\n",
    "\n",
    "    #start by calculating the inner summands, and keep them in an array\n",
    "    derv = 1/(2*c1);\n",
    "    z0 = c1;\n",
    "\n",
    "\n",
    "    derivs = [derv];\n",
    "\n",
    "    for i in range(1, p*q-1):\n",
    "        z0 = z0*z0 + c1;\n",
    "        # if(np.abs(derv)<0.00000000000000001):\n",
    "        #     derv = 0;\n",
    "        \n",
    "        # else:\n",
    "        derv = derv/(2*z0);\n",
    "        \n",
    "        derivs.append(derv);\n",
    "    \n",
    "    #now calculate polynomial\n",
    "    for n in range(1, q):\n",
    "        genady.append(sum(derivs[p*(n-1)+1 : p*n+1]));\n",
    "    \n",
    "\n",
    "    genady.append(sum(derivs[p*(q-1)+1 : p*q]));\n",
    "\n",
    "    return genady;"
   ]
  },
  {
   "cell_type": "code",
   "execution_count": 34,
   "metadata": {},
   "outputs": [],
   "source": [
    "g = genady_polynomial(-1.3107127695631782-1.4439071399170718e-05j, 1, 2*2)"
   ]
  },
  {
   "cell_type": "code",
   "execution_count": 38,
   "metadata": {},
   "outputs": [],
   "source": [
    "c1 = -1.3107127695631782-1.4439071399170718e-05j"
   ]
  },
  {
   "cell_type": "code",
   "execution_count": 105,
   "metadata": {},
   "outputs": [],
   "source": [
    "def p1(c1 , q):\n",
    "    g = [1, 1/(2*c1)];\n",
    "\n",
    "    fip = [2*c1];\n",
    "    z0 = c1;\n",
    "    for i in range(1, q-1):\n",
    "        z0 = z0*z0 + c1;\n",
    "        fip.append(fip[i-1] * 2*z0);\n",
    "        g.append(1/fip[-1]);\n",
    "    \n",
    "    return g\n",
    "    \n",
    "def p2(c1, p, q):\n",
    "    g = [1];\n",
    "\n",
    "    derivs = [1, 1/(2*c1)];\n",
    "    z0 = c1;\n",
    "    for i in range(1, p*q-1):\n",
    "        z0 = z0*z0 + c1;\n",
    "        derivs.append(derivs[-1] * 1/(2 * z0))\n",
    "\n",
    "    for n in range(1, q):\n",
    "\n",
    "        s=0;\n",
    "        for k in range(1, p+1):\n",
    "            s += derivs[p*n-p+k];\n",
    "        g.append(s);\n",
    "    \n",
    "    for n in range(1, p):\n",
    "\n",
    "        s=0;\n",
    "        for k in range(1, p+1):\n",
    "            s += derivs[p*q-p+k];\n",
    "        g.append(s);\n",
    "    \n",
    "    return g"
   ]
  },
  {
   "cell_type": "code",
   "execution_count": 106,
   "metadata": {},
   "outputs": [
    {
     "ename": "IndexError",
     "evalue": "list index out of range",
     "output_type": "error",
     "traceback": [
      "\u001b[1;31m---------------------------------------------------------------------------\u001b[0m",
      "\u001b[1;31mIndexError\u001b[0m                                Traceback (most recent call last)",
      "Cell \u001b[1;32mIn[106], line 1\u001b[0m\n\u001b[1;32m----> 1\u001b[0m \u001b[43mp2\u001b[49m\u001b[43m(\u001b[49m\u001b[38;5;241;43m2\u001b[39;49m\u001b[43m,\u001b[49m\u001b[43m \u001b[49m\u001b[38;5;241;43m2\u001b[39;49m\u001b[43m,\u001b[49m\u001b[43m \u001b[49m\u001b[38;5;241;43m2\u001b[39;49m\u001b[43m)\u001b[49m\n",
      "Cell \u001b[1;32mIn[105], line 33\u001b[0m, in \u001b[0;36mp2\u001b[1;34m(c1, p, q)\u001b[0m\n\u001b[0;32m     31\u001b[0m     s\u001b[38;5;241m=\u001b[39m\u001b[38;5;241m0\u001b[39m;\n\u001b[0;32m     32\u001b[0m     \u001b[38;5;28;01mfor\u001b[39;00m k \u001b[38;5;129;01min\u001b[39;00m \u001b[38;5;28mrange\u001b[39m(\u001b[38;5;241m1\u001b[39m, p\u001b[38;5;241m+\u001b[39m\u001b[38;5;241m1\u001b[39m):\n\u001b[1;32m---> 33\u001b[0m         s \u001b[38;5;241m+\u001b[39m\u001b[38;5;241m=\u001b[39m \u001b[43mderivs\u001b[49m\u001b[43m[\u001b[49m\u001b[43mp\u001b[49m\u001b[38;5;241;43m*\u001b[39;49m\u001b[43mq\u001b[49m\u001b[38;5;241;43m-\u001b[39;49m\u001b[43mp\u001b[49m\u001b[38;5;241;43m+\u001b[39;49m\u001b[43mk\u001b[49m\u001b[43m]\u001b[49m;\n\u001b[0;32m     34\u001b[0m     g\u001b[38;5;241m.\u001b[39mappend(s);\n\u001b[0;32m     36\u001b[0m \u001b[38;5;28;01mreturn\u001b[39;00m g\n",
      "\u001b[1;31mIndexError\u001b[0m: list index out of range"
     ]
    }
   ],
   "source": [
    "p2(2, 2, 2)"
   ]
  },
  {
   "cell_type": "code",
   "execution_count": 78,
   "metadata": {},
   "outputs": [],
   "source": [
    "g = p1(c1, 4)"
   ]
  },
  {
   "cell_type": "code",
   "execution_count": 79,
   "metadata": {},
   "outputs": [
    {
     "data": {
      "text/plain": [
       "array([1.71513536, 1.42531364, 1.99989025])"
      ]
     },
     "execution_count": 79,
     "metadata": {},
     "output_type": "execute_result"
    }
   ],
   "source": [
    "np.abs(all_roots(g))"
   ]
  },
  {
   "cell_type": "code",
   "execution_count": 65,
   "metadata": {},
   "outputs": [],
   "source": [
    "def real_roots(P, xmin, xmax):\n",
    "    guesses = np.linspace(xmin, xmax, 100);\n",
    "\n",
    "    roots = [];\n",
    "    for x0 in guesses:\n",
    "        roots.append(newt_raph(P, x0))\n",
    "    return roots"
   ]
  },
  {
   "cell_type": "code",
   "execution_count": 76,
   "metadata": {},
   "outputs": [
    {
     "data": {
      "text/plain": [
       "(0.12774124267550152+0.03123435148086281j)"
      ]
     },
     "execution_count": 76,
     "metadata": {},
     "output_type": "execute_result"
    }
   ],
   "source": [
    "newt_raph(g, 1)"
   ]
  },
  {
   "cell_type": "code",
   "execution_count": 81,
   "metadata": {},
   "outputs": [
    {
     "data": {
      "text/latex": [
       "$\\displaystyle c + \\left(c + \\left(c + \\left(c + \\left(c + \\left(c + \\left(c^{2} + c\\right)^{2}\\right)^{2}\\right)^{2}\\right)^{2}\\right)^{2}\\right)^{2}$"
      ],
      "text/plain": [
       "c + (c + (c + (c + (c + (c + (c**2 + c)**2)**2)**2)**2)**2)**2"
      ]
     },
     "execution_count": 81,
     "metadata": {},
     "output_type": "execute_result"
    }
   ],
   "source": [
    "c1iter(c, 2**3)"
   ]
  },
  {
   "cell_type": "code",
   "execution_count": 92,
   "metadata": {},
   "outputs": [],
   "source": [
    "g = p1(-1.38155, 2**3)"
   ]
  },
  {
   "cell_type": "code",
   "execution_count": 93,
   "metadata": {},
   "outputs": [],
   "source": [
    "r = all_roots(g)"
   ]
  },
  {
   "cell_type": "code",
   "execution_count": 94,
   "metadata": {},
   "outputs": [
    {
     "data": {
      "text/plain": [
       "array([1.18693616, 1.28707034, 1.30209361, 1.78049105, 2.00007889,\n",
       "       1.18693616, 1.44596995])"
      ]
     },
     "execution_count": 94,
     "metadata": {},
     "output_type": "execute_result"
    }
   ],
   "source": [
    "np.abs(r)"
   ]
  },
  {
   "cell_type": "code",
   "execution_count": null,
   "metadata": {},
   "outputs": [],
   "source": []
  }
 ],
 "metadata": {
  "kernelspec": {
   "display_name": "Python 3",
   "language": "python",
   "name": "python3"
  },
  "language_info": {
   "codemirror_mode": {
    "name": "ipython",
    "version": 3
   },
   "file_extension": ".py",
   "mimetype": "text/x-python",
   "name": "python",
   "nbconvert_exporter": "python",
   "pygments_lexer": "ipython3",
   "version": "3.11.2"
  }
 },
 "nbformat": 4,
 "nbformat_minor": 2
}
