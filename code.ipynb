{
 "cells": [
  {
   "cell_type": "code",
   "execution_count": 1,
   "metadata": {},
   "outputs": [],
   "source": [
    "import numpy as np\n",
    "import matplotlib.pyplot as plt\n",
    "import sympy as sym"
   ]
  },
  {
   "cell_type": "code",
   "execution_count": 2,
   "metadata": {},
   "outputs": [],
   "source": [
    "#constants\n",
    "pi = np.pi;\n",
    "e = np.e;"
   ]
  },
  {
   "cell_type": "markdown",
   "metadata": {},
   "source": [
    "### FFT"
   ]
  },
  {
   "cell_type": "code",
   "execution_count": 30,
   "metadata": {},
   "outputs": [],
   "source": [
    "def fft(P):\n",
    "\n",
    "    if(len(P) == 1):\n",
    "        return P;\n",
    "    \n",
    "\n",
    "    P_e = P[0:: 2];\n",
    "    P_o = P[1:: 2];\n",
    "\n",
    "    y_e = fft(P_e);\n",
    "    y_o = fft(P_o);\n",
    "\n",
    "    y = np.zeros(len(P), dtype=np.complex_);\n",
    "    w = e**(1j * 2*pi/len(P));\n",
    "    w0 = 1;\n",
    "\n",
    "    for i in range(len(y_e)):\n",
    "        y[i] = w0 * y_o[i] + y_e[i];\n",
    "        y[i+len(y_e)] = -w0 * y_o[i] + y_e[i];\n",
    "        w0 *= w;\n",
    "    \n",
    "\n",
    "    return y;\n",
    "\n",
    "def ifft(P, depth = 0):\n",
    "\n",
    "    if(len(P) == 1):\n",
    "        return P;\n",
    "    \n",
    "\n",
    "    P_e = P[0:: 2];\n",
    "    P_o = P[1:: 2];\n",
    "\n",
    "    y_e = ifft(P_e, 1);\n",
    "    y_o = ifft(P_o, 1);\n",
    "\n",
    "    y = np.zeros(len(P), dtype=np.complex_);\n",
    "    w = e**(-1j * 2*pi/len(P));\n",
    "    w0 = 1;\n",
    "\n",
    "    for i in range(len(y_e)):\n",
    "        y[i] = w0 * y_o[i] + y_e[i];\n",
    "        y[i+len(y_e)] = -w0 * y_o[i] + y_e[i];\n",
    "        w0 *= w;\n",
    "    \n",
    "    if(depth):\n",
    "        return y;\n",
    "\n",
    "    return y/len(P);\n",
    "\n",
    "def fpad(P):\n",
    "\n",
    "    n = int(2**(np.ceil(np.log2(len(P)))));\n",
    "    if(len(P)-n==0):\n",
    "        return P;\n",
    "\n",
    "    padded = [];\n",
    "    for i in range(0,  len(P)):\n",
    "        padded.append(P[i]);\n",
    "    \n",
    "    for i in range(len(P), n):\n",
    "        padded.append(0);\n",
    "\n",
    "    return np.array(padded, dtype = np.complex_);"
   ]
  },
  {
   "cell_type": "markdown",
   "metadata": {},
   "source": [
    "### Newton Raphson"
   ]
  },
  {
   "cell_type": "code",
   "execution_count": 233,
   "metadata": {},
   "outputs": [
    {
     "data": {
      "text/plain": [
       "<matplotlib.collections.PathCollection at 0x22b4853ded0>"
      ]
     },
     "execution_count": 233,
     "metadata": {},
     "output_type": "execute_result"
    },
    {
     "data": {
      "image/png": "[encoded data removed]",
      "text/plain": [
       "<Figure size 640x480 with 1 Axes>"
      ]
     },
     "metadata": {},
     "output_type": "display_data"
    }
   ],
   "source": [
    "def diff(P):\n",
    "\n",
    "    dP = [];\n",
    "    for i in range(1, len(P)):\n",
    "        dP.append(i*P[i]);\n",
    "    dP.append(0);\n",
    "    dP = np.array(dP, dtype=np.complex_);\n",
    "\n",
    "    return dP;\n",
    "\n",
    "def remove_trailing_zeros(P):\n",
    "\n",
    "    n = 0;\n",
    "    for i in range(len(P)-1, 0, -1):\n",
    "        if(np.abs(P[i]) > 0.0001):\n",
    "            n = i;\n",
    "            break;\n",
    "\n",
    "    return P[:n+1];\n",
    "\n",
    "def poly_div(P,Q):\n",
    "    P = np.array(P, dtype=np.complex_);\n",
    "    Q = np.concatenate((Q, [0]*(len(P)-len(Q))));\n",
    "\n",
    "    vP = fft(fpad(P));\n",
    "    vQ = fft(fpad(Q));\n",
    "\n",
    "    h = [];\n",
    "    for i in range(len(vP)):\n",
    "        if(np.abs(vQ[i])>10**(-3)):\n",
    "            h.append(vP[i]/vQ[i]);\n",
    "        else:\n",
    "            woff = woff = e**(1j * 2*pi*i / len(vP)) + 0.00001 + 1j * 0.00001;\n",
    "            pows = [woff**i for i in range(len(P))];\n",
    "            h.append(P.dot(pows)/Q.dot(pows))\n",
    "    \n",
    "    return np.array(remove_trailing_zeros(ifft(h)), dtype = np.complex_);\n",
    "\n",
    "\n",
    "def all_roots(P, niter = 20):\n",
    "\n",
    "    #create derivative\n",
    "    P = np.array(P, dtype = np.complex_);\n",
    "    dP = diff(P);\n",
    "\n",
    "    #initial guess\n",
    "    n = len(P);\n",
    "    roots = [];\n",
    "\n",
    "    for i in range(n-1):\n",
    "        x0 = np.random.uniform(-1, 1);\n",
    "        y0 = np.random.uniform(-1, 1);\n",
    "        z0 = x0 + 1j * y0;\n",
    "\n",
    "        for j in range(niter):\n",
    "            pows = [1];\n",
    "            zi = 1;\n",
    "            for k in range(1, len(P)):\n",
    "                zi *= z0;\n",
    "                pows.append(zi);\n",
    "\n",
    "            vp = P.dot(pows);\n",
    "            vq = dP.dot(pows);\n",
    "\n",
    "            z0 = z0 - vp/vq;\n",
    "\n",
    "        P = poly_div(P, [-z0, 1]);\n",
    "        dP = diff(P);\n",
    "        roots.append(z0);\n",
    "\n",
    "    return roots;\n",
    "\n",
    "q = to_array(piter(p, 2))[::-1]\n",
    "roots = all_roots(q)\n",
    "plt.scatter(np.real(roots), np.imag(roots))"
   ]
  },
  {
   "cell_type": "code",
   "execution_count": 234,
   "metadata": {},
   "outputs": [],
   "source": [
    "#specific newton raphson implementation\n",
    "\n",
    "def calc(z0, n):\n",
    "    fz = [z0]\n",
    "    for i in range(n-1):\n",
    "        z0 = z0*z0+z0;\n",
    "        fz.append(z0);\n",
    "    return np.array(fz);\n",
    "\n",
    "def spec_newt_raph(z0, n, niter = 20):\n",
    "\n",
    "    for i in range(niter):\n",
    "        fz = calc(z0, n);\n",
    "        prod = 1;\n",
    "        for z in fz:\n",
    "            prod *= (2*z+1);\n",
    "        z0 -= (fz[-1]**2+fz[-1])/prod;\n",
    "    \n",
    "    return z0"
   ]
  },
  {
   "cell_type": "code",
   "execution_count": 235,
   "metadata": {},
   "outputs": [
    {
     "data": {
      "text/plain": [
       "(-1.070695986873045-0.7587449567759897j)"
      ]
     },
     "execution_count": 235,
     "metadata": {},
     "output_type": "execute_result"
    }
   ],
   "source": [
    "spec_newt_raph(-1.5 - 1j, 4)"
   ]
  },
  {
   "cell_type": "markdown",
   "metadata": {},
   "source": [
    "### Composition and roots of f^pq"
   ]
  },
  {
   "cell_type": "code",
   "execution_count": 236,
   "metadata": {},
   "outputs": [],
   "source": [
    "def piter(p, n):\n",
    "    q = p;\n",
    "    for i in range(n-1):\n",
    "        q = sym.compose(p, q);\n",
    "    return q\n",
    "\n",
    "def to_array(p):\n",
    "    return np.array(sym.Poly(p).all_coeffs(), dtype=np.complex_);"
   ]
  },
  {
   "cell_type": "code",
   "execution_count": 240,
   "metadata": {},
   "outputs": [
    {
     "data": {
      "text/plain": [
       "<matplotlib.collections.PathCollection at 0x22b487a4c10>"
      ]
     },
     "execution_count": 240,
     "metadata": {},
     "output_type": "execute_result"
    },
    {
     "data": {
      "image/png": "[encoded data removed]",
      "text/plain": [
       "<Figure size 640x480 with 1 Axes>"
      ]
     },
     "metadata": {},
     "output_type": "display_data"
    }
   ],
   "source": [
    "c = sym.Symbol('c')\n",
    "p = c*c+c\n",
    "\n",
    "q = to_array(piter(p, 5))[::-1]\n",
    "roots = all_roots(q, niter=1000)\n",
    "plt.scatter(np.real(roots), np.imag(roots))"
   ]
  },
  {
   "cell_type": "code",
   "execution_count": 147,
   "metadata": {},
   "outputs": [
    {
     "data": {
      "text/plain": [
       "array([-5.91506115e-06-1.58488834e-06j,  5.00005915e-01+8.66026989e-01j,\n",
       "        9.99994085e-01-1.58488834e-06j])"
      ]
     },
     "execution_count": 147,
     "metadata": {},
     "output_type": "execute_result"
    }
   ],
   "source": [
    "P = [0, 0.5+np.sqrt(3)/2*1j, 1.5+np.sqrt(3)/2*1j, 1]\n",
    "poly_div(P, [1, 1])"
   ]
  },
  {
   "cell_type": "markdown",
   "metadata": {},
   "source": [
    "### Main Event"
   ]
  },
  {
   "cell_type": "code",
   "execution_count": null,
   "metadata": {},
   "outputs": [],
   "source": [
    "def genady_polynomial(c1, p, q):\n",
    "\n",
    "    genady = [1];\n",
    "\n",
    "    #start by calculating the inner summands, and keep them in an array\n",
    "    derv = 1/(2*c1);\n",
    "    z0 = c1;\n",
    "\n",
    "\n",
    "    derivs = [derv];\n",
    "\n",
    "    for i in range(2, p*q+1):\n",
    "        z0 = z0*z0 + c1;\n",
    "        if(np.abs(derv)<0.00000000000000001):\n",
    "            derv = 0;\n",
    "        \n",
    "        else:\n",
    "            derv = derv/(2*z0);\n",
    "        \n",
    "        derivs.append(derv);\n",
    "    \n",
    "    #now calculate polynomial\n",
    "    for n in range(1, q):\n",
    "        genady.append(sum(derivs[p*(n-1)+1 : p*n+1]));\n",
    "    \n",
    "\n",
    "    genady.append(sum(derivs[p*(q-1)+1 : p*q]));\n",
    "\n",
    "    return genady;"
   ]
  },
  {
   "cell_type": "code",
   "execution_count": null,
   "metadata": {},
   "outputs": [],
   "source": []
  }
 ],
 "metadata": {
  "kernelspec": {
   "display_name": "Python 3",
   "language": "python",
   "name": "python3"
  },
  "language_info": {
   "codemirror_mode": {
    "name": "ipython",
    "version": 3
   },
   "file_extension": ".py",
   "mimetype": "text/x-python",
   "name": "python",
   "nbconvert_exporter": "python",
   "pygments_lexer": "ipython3",
   "version": "3.11.5"
  }
 },
 "nbformat": 4,
 "nbformat_minor": 2
}
